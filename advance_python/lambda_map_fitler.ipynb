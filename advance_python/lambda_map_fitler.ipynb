{
 "cells": [
  {
   "cell_type": "code",
   "execution_count": 1,
   "metadata": {},
   "outputs": [
    {
     "name": "stdout",
     "output_type": "stream",
     "text": [
      "11\n"
     ]
    }
   ],
   "source": [
    "# lambda or anonymous function\n",
    "add = lambda x, y: x + y\n",
    "    # lambda arguments: expression\n",
    "    \n",
    "print(add(5,6))"
   ]
  },
  {
   "cell_type": "code",
   "execution_count": 6,
   "metadata": {},
   "outputs": [
    {
     "name": "stdout",
     "output_type": "stream",
     "text": [
      "[1, 4, 256, 256, 3125, 46656, 387420489]\n"
     ]
    }
   ],
   "source": [
    "# lambda function with map reducer fx\n",
    "num = [1,2,4,4,5,6,9]\n",
    "sq = list(map(lambda x:x**x, num)) \n",
    "print(sq)"
   ]
  },
  {
   "cell_type": "code",
   "execution_count": 8,
   "metadata": {},
   "outputs": [
    {
     "name": "stdout",
     "output_type": "stream",
     "text": [
      "[5, 58, 11, 13, 11, 11]\n"
     ]
    }
   ],
   "source": [
    "# lambda function with two iterables\n",
    "num1 = [1,2,4,5,6,7]\n",
    "num2 = [4,56,7,8,5,4]\n",
    "\n",
    "# takes two list as input and each item of list1 with list2\n",
    "add_list = list(map(lambda x,y:x+y, num1, num2))\n",
    "\n",
    "print(add_list)"
   ]
  },
  {
   "cell_type": "code",
   "execution_count": null,
   "metadata": {},
   "outputs": [],
   "source": []
  }
 ],
 "metadata": {
  "kernelspec": {
   "display_name": ".venv",
   "language": "python",
   "name": "python3"
  },
  "language_info": {
   "codemirror_mode": {
    "name": "ipython",
    "version": 3
   },
   "file_extension": ".py",
   "mimetype": "text/x-python",
   "name": "python",
   "nbconvert_exporter": "python",
   "pygments_lexer": "ipython3",
   "version": "3.12.8"
  }
 },
 "nbformat": 4,
 "nbformat_minor": 2
}
