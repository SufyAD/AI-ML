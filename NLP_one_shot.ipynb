{
  "nbformat": 4,
  "nbformat_minor": 0,
  "metadata": {
    "colab": {
      "provenance": [],
      "authorship_tag": "ABX9TyM74PCJ+AXIBTT1mWkXG90R",
      "include_colab_link": true
    },
    "kernelspec": {
      "name": "python3",
      "display_name": "Python 3"
    },
    "language_info": {
      "name": "python"
    }
  },
  "cells": [
    {
      "cell_type": "markdown",
      "metadata": {
        "id": "view-in-github",
        "colab_type": "text"
      },
      "source": [
        "<a href=\"https://colab.research.google.com/github/SufyAD/AI-ML/blob/main/NLP_one_shot.ipynb\" target=\"_parent\"><img src=\"https://colab.research.google.com/assets/colab-badge.svg\" alt=\"Open In Colab\"/></a>"
      ]
    },
    {
      "cell_type": "markdown",
      "source": [
        "## 1. Stemming techniques and their drawbacks"
      ],
      "metadata": {
        "id": "Fnj1f-nQiaQm"
      }
    },
    {
      "cell_type": "code",
      "source": [
        "!pip install nltk"
      ],
      "metadata": {
        "colab": {
          "base_uri": "https://localhost:8080/"
        },
        "id": "1hurXDjgc9-Y",
        "outputId": "221ec2f6-2019-41a6-c6ca-6c5636502897"
      },
      "execution_count": 2,
      "outputs": [
        {
          "output_type": "stream",
          "name": "stdout",
          "text": [
            "Requirement already satisfied: nltk in /usr/local/lib/python3.11/dist-packages (3.9.1)\n",
            "Requirement already satisfied: click in /usr/local/lib/python3.11/dist-packages (from nltk) (8.1.8)\n",
            "Requirement already satisfied: joblib in /usr/local/lib/python3.11/dist-packages (from nltk) (1.4.2)\n",
            "Requirement already satisfied: regex>=2021.8.3 in /usr/local/lib/python3.11/dist-packages (from nltk) (2024.11.6)\n",
            "Requirement already satisfied: tqdm in /usr/local/lib/python3.11/dist-packages (from nltk) (4.67.1)\n"
          ]
        }
      ]
    },
    {
      "cell_type": "code",
      "execution_count": 6,
      "metadata": {
        "id": "tg1rS3DSArg1"
      },
      "outputs": [],
      "source": [
        "# Stemming technique\n",
        "words = [\n",
        "    'preprocessing', 'unbelievably', 'counterintuitive', 'misunderstanding',\n",
        "    'reimplementation', 'overcompensating', 'underachievement', 'disenfranchisement',\n",
        "    'miscommunication', 'internationalization', 'antidisestablishmentarianism',\n",
        "    'bioengineering', 'microencapsulation', 'hyperresponsiveness', 'reconfiguration',\n",
        "    'suboptimization', 'transcontinental', 'overspecialization', 'deconstructionist'\n",
        "]"
      ]
    },
    {
      "cell_type": "markdown",
      "source": [
        "### PorterStemmer\n",
        "A word stemmer based on the Porter stemming algorithm.\n",
        "\n",
        "> Porter, M. \"An algorithm for suffix stripping.\"\n"
      ],
      "metadata": {
        "id": "Nw9i-NBBg3eZ"
      }
    },
    {
      "cell_type": "code",
      "source": [
        "from nltk.stem import PorterStemmer\n",
        "stemmer = PorterStemmer()\n",
        "for word in words:\n",
        "  print ('------>')\n",
        "  print(stemmer.stem(word)) # stemming words\n",
        "# Disadvantages with Stemming\n",
        "# it will deform the words and update such words that donot even exists"
      ],
      "metadata": {
        "id": "Jik5jEg5c7im"
      },
      "execution_count": null,
      "outputs": []
    },
    {
      "cell_type": "markdown",
      "source": [],
      "metadata": {
        "id": "htDhZgzDhAZN"
      }
    },
    {
      "cell_type": "markdown",
      "source": [
        "### RegexpStemmer\n",
        "A word stemmer based on the Porter stemming algorithm.\n",
        "\n",
        "> Porter, M. \"An algorithm for suffix stripping.\"\n",
        "\n",
        "\n",
        "```\n",
        "RegexpStemmer(regex, min)\n",
        "```\n",
        "\n",
        "\n",
        "\n",
        "\n"
      ],
      "metadata": {
        "id": "ddYu0r2NhHI5"
      }
    },
    {
      "cell_type": "code",
      "source": [
        "from nltk.stem import RegexpStemmer\n",
        "reg_stemmer = RegexpStemmer('ing|able|ion|ent|ness', min=4) # set variables\n",
        "for word in words:\n",
        "  print(f\"{word} -> {reg_stemmer.stem(word)}\")\n"
      ],
      "metadata": {
        "colab": {
          "base_uri": "https://localhost:8080/"
        },
        "id": "IWZKiD3ZfTm6",
        "outputId": "edcb95c9-a4a1-4c07-f5e4-7067d981c04a"
      },
      "execution_count": 15,
      "outputs": [
        {
          "output_type": "stream",
          "name": "stdout",
          "text": [
            "preprocessing -> preprocess\n",
            "unbelievably -> unbelievably\n",
            "counterintuitive -> counterintuitive\n",
            "misunderstanding -> misunderstand\n",
            "reimplementation -> reimplemat\n",
            "overcompensating -> overcompensat\n",
            "underachievement -> underachievem\n",
            "disenfranchisement -> disenfranchisem\n",
            "miscommunication -> miscommunicat\n",
            "internationalization -> internatalizat\n",
            "antidisestablishmentarianism -> antidisestablishmarianism\n",
            "bioengineering -> bioengineer\n",
            "microencapsulation -> microencapsulat\n",
            "hyperresponsiveness -> hyperresponsive\n",
            "reconfiguration -> reconfigurat\n",
            "suboptimization -> suboptimizat\n",
            "transcontinental -> transcontinal\n",
            "overspecialization -> overspecializat\n",
            "deconstructionist -> deconstructist\n"
          ]
        }
      ]
    },
    {
      "cell_type": "markdown",
      "source": [
        "## 2. Lemmetization > Stemming"
      ],
      "metadata": {
        "id": "4h7OCZDsii6v"
      }
    },
    {
      "cell_type": "code",
      "source": [
        "import nltk\n",
        "nltk.download('averaged_perceptron_tagger_eng')\n",
        "nltk.download('wordnet')"
      ],
      "metadata": {
        "colab": {
          "base_uri": "https://localhost:8080/"
        },
        "id": "TwYgVIl8mQj5",
        "outputId": "0e6f7213-f676-4e96-886d-a412f4bc9071"
      },
      "execution_count": 23,
      "outputs": [
        {
          "output_type": "stream",
          "name": "stderr",
          "text": [
            "[nltk_data] Downloading package averaged_perceptron_tagger_eng to\n",
            "[nltk_data]     /root/nltk_data...\n",
            "[nltk_data]   Package averaged_perceptron_tagger_eng is already up-to-\n",
            "[nltk_data]       date!\n",
            "[nltk_data] Downloading package wordnet to /root/nltk_data...\n",
            "[nltk_data]   Package wordnet is already up-to-date!\n"
          ]
        },
        {
          "output_type": "execute_result",
          "data": {
            "text/plain": [
              "True"
            ]
          },
          "metadata": {},
          "execution_count": 23
        }
      ]
    },
    {
      "cell_type": "code",
      "source": [
        "from nltk.stem import WordNetLemmatizer # best version to convert words to root words\n",
        "from nltk.corpus import wordnet\n",
        "from nltk.tag import pos_tag\n",
        "from nltk.tokenize import word_tokenize\n",
        "\n",
        "lemmetizer = WordNetLemmatizer()\n",
        "\n",
        "# get pos of the words in the list implied by the pos_tag nltk fx\n",
        "def get_pos(treebank_tag):\n",
        "  if treebank_tag.startswith('J'):\n",
        "    return wordnet.ADJ\n",
        "  elif treebank_tag.startswith('V'):\n",
        "    return wordnet.VERB\n",
        "  elif treebank_tag.startswith('N'):\n",
        "    return wordnet.NOUN\n",
        "  elif treebank_tag.startswith('R'):\n",
        "    return wordnet.ADV\n",
        "  else:\n",
        "    return wordnet.NOUN\n",
        "\n",
        "tagged = pos_tag(words) # this will add tag against each word of the list/para\n",
        "for word, tag in tagged:\n",
        "  print(f\"{word} -> {lemmetizer.lemmatize(word, get_pos(tag))}\")"
      ],
      "metadata": {
        "colab": {
          "base_uri": "https://localhost:8080/"
        },
        "id": "ASWfI83UgQBw",
        "outputId": "056a3573-fd7b-47cf-9749-1e1e06a51df5"
      },
      "execution_count": 24,
      "outputs": [
        {
          "output_type": "stream",
          "name": "stdout",
          "text": [
            "preprocessing -> preprocessing\n",
            "unbelievably -> unbelievably\n",
            "counterintuitive -> counterintuitive\n",
            "misunderstanding -> misunderstand\n",
            "reimplementation -> reimplementation\n",
            "overcompensating -> overcompensate\n",
            "underachievement -> underachievement\n",
            "disenfranchisement -> disenfranchisement\n",
            "miscommunication -> miscommunication\n",
            "internationalization -> internationalization\n",
            "antidisestablishmentarianism -> antidisestablishmentarianism\n",
            "bioengineering -> bioengineering\n",
            "microencapsulation -> microencapsulation\n",
            "hyperresponsiveness -> hyperresponsiveness\n",
            "reconfiguration -> reconfiguration\n",
            "suboptimization -> suboptimization\n",
            "transcontinental -> transcontinental\n",
            "overspecialization -> overspecialization\n",
            "deconstructionist -> deconstructionist\n"
          ]
        }
      ]
    }
  ]
}