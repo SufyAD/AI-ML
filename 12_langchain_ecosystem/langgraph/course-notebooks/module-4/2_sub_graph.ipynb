{
  "cells": [
    {
      "cell_type": "markdown",
      "metadata": {
        "id": "view-in-github",
        "colab_type": "text"
      },
      "source": [
        "<a href=\"https://colab.research.google.com/github/SufyAD/AI-ML/blob/main/12_langchain_ecosystem/langgraph/course-notebooks/module-4/2_sub_graph.ipynb\" target=\"_parent\"><img src=\"https://colab.research.google.com/assets/colab-badge.svg\" alt=\"Open In Colab\"/></a>"
      ]
    },
    {
      "cell_type": "markdown",
      "id": "3db85080-2299-4885-a2f6-fffa6a09a238",
      "metadata": {
        "id": "3db85080-2299-4885-a2f6-fffa6a09a238"
      },
      "source": [
        "# Sub-graphs\n",
        "\n",
        "## Review\n",
        "\n",
        "We're building up to a multi-agent research assistant that ties together all of the modules from this course.\n",
        "\n",
        "We just covered parallelization, which is one important LangGraph controllability topic.\n",
        "\n",
        "## Goals\n",
        "\n",
        "Now, we're [going to cover sub-graphs](https://langchain-ai.github.io/langgraph/how-tos/subgraph/#simple-example).\n",
        "\n",
        "## State\n",
        "\n",
        "Sub-graphs allow you to create and manage different states in different parts of your graph.\n",
        "\n",
        "This is particularly useful for multi-agent systems, with teams of agents that each have their own state.\n",
        "\n",
        "Let's consider a toy example:\n",
        "\n",
        "* I have a system that accepts logs\n",
        "* It performs two separate sub-tasks by different agents (summarize logs, find failure modes)\n",
        "* I want to perform these two operations in two different sub-graphs.\n",
        "\n",
        "The most critical thing to understand is how the graphs communicate!\n",
        "\n",
        "In short, communication is **done with over-lapping keys**:\n",
        "\n",
        "* The sub-graphs can access `docs` from the parent\n",
        "* The parent can access `summary/failure_report` from the sub-graphs\n",
        "\n",
        "![subgraph.png](https://cdn.prod.website-files.com/65b8cd72835ceeacd4449a53/66dbb1abf89f2d847ee6f1ff_sub-graph1.png)\n",
        "\n",
        "## Input\n",
        "\n",
        "Let's define a schema for the logs that will be input to our graph."
      ]
    },
    {
      "cell_type": "code",
      "execution_count": 1,
      "id": "2954e8c6-496f-4394-b56a-681608bf65da",
      "metadata": {
        "id": "2954e8c6-496f-4394-b56a-681608bf65da"
      },
      "outputs": [],
      "source": [
        "%%capture --no-stderr\n",
        "%pip install -U  langgraph"
      ]
    },
    {
      "cell_type": "markdown",
      "id": "e7e413ba-e376-4a5f-a666-2d2154aa6fe2",
      "metadata": {
        "id": "e7e413ba-e376-4a5f-a666-2d2154aa6fe2"
      },
      "source": [
        "We'll use [LangSmith](https://docs.smith.langchain.com/) for [tracing](https://docs.smith.langchain.com/concepts/tracing)."
      ]
    },
    {
      "cell_type": "code",
      "execution_count": 2,
      "id": "05b26c51",
      "metadata": {
        "colab": {
          "base_uri": "https://localhost:8080/"
        },
        "id": "05b26c51",
        "outputId": "6c6ba27f-8da6-41be-9fca-3602d1c6c864"
      },
      "outputs": [
        {
          "output_type": "stream",
          "name": "stdout",
          "text": [
            "env: LANGCHAIN_API_KEY=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\n"
          ]
        }
      ],
      "source": [
        "import os\n",
        "from google.colab import userdata\n",
        "\n",
        "%env LANGCHAIN_API_KEY = {userdata.get('LANGCHAIN_API_KEY')}\n",
        "os.environ[\"LANGCHAIN_TRACING_V2\"] = \"true\"\n",
        "os.environ[\"LANGCHAIN_PROJECT\"] = \"langchain-academy\""
      ]
    },
    {
      "cell_type": "code",
      "execution_count": 3,
      "id": "3efaf8bb-f675-4c0b-a575-89c7e2987a33",
      "metadata": {
        "id": "3efaf8bb-f675-4c0b-a575-89c7e2987a33"
      },
      "outputs": [],
      "source": [
        "from operator import add\n",
        "from typing_extensions import TypedDict\n",
        "from typing import List, Optional, Annotated\n",
        "\n",
        "# The structure of the logs\n",
        "class Log(TypedDict):\n",
        "    id: str\n",
        "    question: str\n",
        "    docs: Optional[List]\n",
        "    answer: str\n",
        "    grade: Optional[int]\n",
        "    grader: Optional[str]\n",
        "    feedback: Optional[str]"
      ]
    },
    {
      "cell_type": "markdown",
      "id": "15825627-78c2-4ba0-ad11-95e4afdb771d",
      "metadata": {
        "id": "15825627-78c2-4ba0-ad11-95e4afdb771d"
      },
      "source": [
        "## Sub graphs\n",
        "\n",
        "Here is the failure analysis sub-graph, which uses `FailureAnalysisState`."
      ]
    },
    {
      "cell_type": "code",
      "source": [
        "from IPython.display import Image, display\n",
        "from langgraph.graph import StateGraph, START, END\n",
        "from langgraph.graph.state import CompiledStateGraph\n",
        "from langgraph.types import Command\n",
        "from typing import Literal\n",
        "\n",
        "# Failure Analysis Sub-graph\n",
        "class FailureAnalysisState(TypedDict):\n",
        "    cleaned_logs: List[Log]\n",
        "    failures: List[Log]\n",
        "    fa_summary: str\n",
        "    processed_logs: List[str]\n",
        "\n",
        "class FailureAnalysisOutputState(TypedDict):\n",
        "    fa_summary: str\n",
        "    processed_logs: List[str]"
      ],
      "metadata": {
        "id": "1e-NaUin07nk"
      },
      "id": "1e-NaUin07nk",
      "execution_count": 86,
      "outputs": []
    },
    {
      "cell_type": "code",
      "source": [
        "display(Command.__init__)"
      ],
      "metadata": {
        "id": "drRTqI9Ytg4Q",
        "outputId": "fd670d23-3b81-4aa5-b632-35860a60f5b0",
        "colab": {
          "base_uri": "https://localhost:8080/",
          "height": 53
        }
      },
      "id": "drRTqI9Ytg4Q",
      "execution_count": 87,
      "outputs": [
        {
          "output_type": "display_data",
          "data": {
            "text/plain": [
              "<function langgraph.types.Command.__init__(self, *, graph: Optional[str] = None, update: Optional[Any] = None, resume: Union[Any, dict[str, Any], NoneType] = None, goto: Union[langgraph.types.Send, Sequence[Union[langgraph.types.Send, str]], str] = ()) -> None>"
            ]
          },
          "metadata": {}
        }
      ]
    },
    {
      "cell_type": "markdown",
      "id": "aa83f44c-0bb9-48c6-afec-dad536e608fa",
      "metadata": {
        "id": "aa83f44c-0bb9-48c6-afec-dad536e608fa"
      },
      "source": [
        "Here is the question summarization sub-grap, which uses `QuestionSummarizationState`.\n",
        "**Updated this thing with slack**"
      ]
    },
    {
      "cell_type": "code",
      "execution_count": 88,
      "id": "f32986a9-6d11-4646-b2c0-fbae4f524579",
      "metadata": {
        "id": "f32986a9-6d11-4646-b2c0-fbae4f524579"
      },
      "outputs": [],
      "source": [
        "def get_failures(state) -> Command[Literal[\"generate_summary\"]]:\n",
        "    \"\"\" Get logs that contain a failure \"\"\"\n",
        "    cleaned_logs = state[\"cleaned_logs\"]\n",
        "    failures = [log for log in cleaned_logs if \"grade\" in log]\n",
        "    state = {\n",
        "        \"failures\": failures,\n",
        "        \"processed_logs\": [f\"failure-on-log-{failure['id']}\" for failure in failures]\n",
        "    }\n",
        "    goto = \"generate_summary\"\n",
        "    return Command(update=state,\n",
        "                   goto=goto\n",
        "              )\n",
        "\n",
        "def generate_summary(state) -> Command[Literal[\"__end__\"]]:\n",
        "    \"\"\" Generate summary of failures \"\"\"\n",
        "    failures = state[\"failures\"]\n",
        "    # Add fxn: fa_summary = summarize(failures)\n",
        "    fa_summary = \"Poor quality retrieval of Chroma documentation, therefore, your grades are set to fail after careful review\"\n",
        "    state = {\n",
        "        \"fa_summary\": fa_summary,\n",
        "        \"processed_logs\": [f\"summary-on-failure-log-{failure['id']}\" for failure in failures]\n",
        "    }\n",
        "    goto = \"__end__\"\n",
        "    return Command(\n",
        "        update=state,\n",
        "        goto=goto\n",
        "    )"
      ]
    },
    {
      "cell_type": "code",
      "source": [
        "fa_builder: StateGraph = StateGraph(FailureAnalysisState, input=FailureAnalysisState, output=FailureAnalysisOutputState)\n",
        "fa_builder.add_edge(START, \"get_failures\")\n",
        "fa_builder.add_node(\"get_failures\", get_failures)\n",
        "fa_builder.add_node(\"generate_summary\", generate_summary)\n",
        "\n",
        "# we no need any edges as of now, bcz we have introduced Command function\n",
        "# fa_builder.add_edge(\"get_failures\", \"generate_summary\")\n",
        "# fa_builder.add_edge(\"generate_summary\", END)\n",
        "\n",
        "graph: CompiledStateGraph = fa_builder.compile()\n",
        "display(Image(graph.get_graph().draw_mermaid_png()))"
      ],
      "metadata": {
        "id": "_a6iHYdL3NDS",
        "outputId": "e945ae5e-100e-4b82-e945-957d373467ad",
        "colab": {
          "base_uri": "https://localhost:8080/",
          "height": 350
        }
      },
      "id": "_a6iHYdL3NDS",
      "execution_count": 89,
      "outputs": [
        {
          "output_type": "display_data",
          "data": {
            "image/png": "[encoded data removed]",
            "text/plain": [
              "<IPython.core.display.Image object>"
            ]
          },
          "metadata": {}
        }
      ]
    },
    {
      "cell_type": "code",
      "source": [
        "# Summarization subgraph\n",
        "class QuestionSummarizationState(TypedDict):\n",
        "    cleaned_logs: List[Log]\n",
        "    qs_summary: str\n",
        "    report: str\n",
        "    processed_logs: List[str]\n",
        "\n",
        "class QuestionSummarizationOutputState(TypedDict):\n",
        "    report: str\n",
        "    processed_logs: List[str]"
      ],
      "metadata": {
        "id": "f4WrhCDd4cmA"
      },
      "id": "f4WrhCDd4cmA",
      "execution_count": 90,
      "outputs": []
    },
    {
      "cell_type": "code",
      "source": [
        "def generate_summary(state)->Command[Literal[\"send_to_slack\"]]:\n",
        "    cleaned_logs = state[\"cleaned_logs\"]\n",
        "    # Add fxn: summary = summarize(generate_summary)\n",
        "    summary = \"Questions focused on usage of ChatOllama and Chroma vector store.\"\n",
        "    state = {\n",
        "        \"qs_summary\": summary,\n",
        "        \"processed_logs\": [f\"summary-on-pass-log-{log['id']}\" for log in cleaned_logs]\n",
        "    }\n",
        "    goto = \"send_to_slack\"\n",
        "    return Command(\n",
        "         update=state,\n",
        "         goto = goto\n",
        "                   )\n",
        "\n",
        "def send_to_slack(state)->Command[Literal[\"__end__\"]]:\n",
        "    qs_summary = state[\"qs_summary\"]\n",
        "    # Add fxn: report = report_generation(qs_summary)\n",
        "    goto = \"__end__\"\n",
        "    report = f\"On basis of this summary: {qs_summary}, your grades are set to pass, and thus, you are PASSED now.\"\n",
        "    return Command(\n",
        "        update = {\"report\": report},\n",
        "        goto = goto\n",
        "    )"
      ],
      "metadata": {
        "id": "JzphZrps47ST"
      },
      "id": "JzphZrps47ST",
      "execution_count": 91,
      "outputs": []
    },
    {
      "cell_type": "code",
      "execution_count": 92,
      "id": "7149000c-ffb6-4834-bd9e-d35b36c524e7",
      "metadata": {
        "colab": {
          "base_uri": "https://localhost:8080/",
          "height": 350
        },
        "id": "7149000c-ffb6-4834-bd9e-d35b36c524e7",
        "outputId": "e5eea550-117e-4fe6-b3d9-d726b3531f7d"
      },
      "outputs": [
        {
          "output_type": "display_data",
          "data": {
            "image/png": "[encoded data removed]",
            "text/plain": [
              "<IPython.core.display.Image object>"
            ]
          },
          "metadata": {}
        }
      ],
      "source": [
        "qs_builder: StateGraph = StateGraph(state_schema=QuestionSummarizationState, input=QuestionSummarizationState, output=QuestionSummarizationOutputState)\n",
        "qs_builder.add_node(\"generate_summary\", generate_summary)\n",
        "qs_builder.add_node(\"send_to_slack\", send_to_slack)\n",
        "qs_builder.add_edge(START, \"generate_summary\")\n",
        "# qs_builder.add_edge(\"generate_summary\", \"send_to_slack\")\n",
        "# qs_builder.add_edge(\"send_to_slack\", END)\n",
        "\n",
        "graph: CompiledStateGraph = qs_builder.compile()\n",
        "display(Image(graph.get_graph().draw_mermaid_png()))"
      ]
    },
    {
      "cell_type": "markdown",
      "id": "f10a5baf-beab-4927-807a-3e6a5ad3d202",
      "metadata": {
        "id": "f10a5baf-beab-4927-807a-3e6a5ad3d202"
      },
      "source": [
        "## Adding sub graphs to our parent graph\n",
        "\n",
        "Now, we can bring it all together.\n",
        "\n",
        "We create our parent graph with `EntryGraphState`.\n",
        "\n",
        "And we add our sub-graphs as nodes!\n",
        "\n",
        "```\n",
        "entry_builder.add_node(\"question_summarization\", qs_builder.compile())\n",
        "entry_builder.add_node(\"failure_analysis\", fa_builder.compile())\n",
        "```"
      ]
    },
    {
      "cell_type": "markdown",
      "id": "5d4da397-310c-4453-969a-e0ae2cc75db8",
      "metadata": {
        "id": "5d4da397-310c-4453-969a-e0ae2cc75db8"
      },
      "source": [
        "But, why does `cleaned_logs` have a reducer if it only goes *into* each sub-graph as an input? It is not modified.\n",
        "\n",
        "```\n",
        "cleaned_logs: Annotated[List[Log], add] # This will be USED BY in BOTH sub-graphs\n",
        "```\n",
        "\n",
        "This is because the output state of the subgraphs will contain **all keys**, even if they are unmodified.\n",
        "\n",
        "The sub-graphs are run in parallel.\n",
        "\n",
        "Because the parallel sub-graphs return the same key, it needs to have a reducer like `operator.add` to combine the incoming values from each sub-graph.\n",
        "\n",
        "But, we can work around this by using another concept we talked about before.\n",
        "\n",
        "We can simply create an output state schema for each sub-graph and ensure that the output state schema contains different keys to publish as output.\n",
        "\n",
        "We don't actually need each sub-graph to output `cleaned_logs`."
      ]
    },
    {
      "cell_type": "code",
      "execution_count": 93,
      "id": "50092b9b-70c1-41b1-a74a-254683e28ce0",
      "metadata": {
        "id": "50092b9b-70c1-41b1-a74a-254683e28ce0"
      },
      "outputs": [],
      "source": [
        "# Entry Graph\n",
        "class EntryGraphState(TypedDict):\n",
        "    raw_logs: List[Log]\n",
        "    cleaned_logs: List[Log]\n",
        "    fa_summary: str # This will only be generated in the FA sub-graph\n",
        "    report: str # This will only be generated in the QS/PASSED sub-graph\n",
        "    processed_logs:  Annotated[List[int], add] # This will be generated in BOTH sub-graphs\n",
        "\n",
        "def clean_logs(state)->Command[Literal[\"question_summarization\", \"failure_analysis\"]]:\n",
        "    raw_logs = state[\"raw_logs\"]\n",
        "    # Data cleaning raw_logs -> docs\n",
        "    cleaned_logs = raw_logs\n",
        "    goto = [\"question_summarization\", \"failure_analysis\"]\n",
        "    return Command(update={\"cleaned_logs\": cleaned_logs},\n",
        "                   goto=goto\n",
        "                   )"
      ]
    },
    {
      "cell_type": "code",
      "source": [
        "entry_builder: StateGraph = StateGraph(EntryGraphState)\n",
        "entry_builder.add_node(\"clean_logs\", clean_logs)\n",
        "entry_builder.add_node(\"question_summarization\", qs_builder.compile())\n",
        "entry_builder.add_node(\"failure_analysis\", fa_builder.compile())\n",
        "\n",
        "entry_builder.add_edge(START, \"clean_logs\")\n",
        "# entry_builder.add_edge(\"clean_logs\", \"failure_analysis\")\n",
        "# entry_builder.add_edge(\"clean_logs\", \"question_summarization\")\n",
        "entry_builder.add_edge(\"failure_analysis\", END)\n",
        "entry_builder.add_edge(\"question_summarization\", END)\n",
        "\n",
        "graph: CompiledStateGraph = entry_builder.compile()\n",
        "\n",
        "from IPython.display import Image, display\n",
        "\n",
        "# Setting xray to 1 will show the internal structure of the nested graph\n",
        "display(Image(graph.get_graph(xray=1).draw_mermaid_png()))"
      ],
      "metadata": {
        "id": "pmwa300z6wUo",
        "outputId": "f0b03855-2f02-4c4f-8561-dd52c140a82f",
        "colab": {
          "base_uri": "https://localhost:8080/",
          "height": 499
        }
      },
      "id": "pmwa300z6wUo",
      "execution_count": 94,
      "outputs": [
        {
          "output_type": "display_data",
          "data": {
            "image/png": "[encoded data removed]",
            "text/plain": [
              "<IPython.core.display.Image object>"
            ]
          },
          "metadata": {}
        }
      ]
    },
    {
      "cell_type": "code",
      "execution_count": 95,
      "id": "17af1254-4e75-4349-9a79-295f4ec95016",
      "metadata": {
        "id": "17af1254-4e75-4349-9a79-295f4ec95016"
      },
      "outputs": [],
      "source": [
        "# Dummy logs\n",
        "question_answer = Log(\n",
        "    id=\"1\",\n",
        "    question=\"How can I import ChatOllama?\",\n",
        "    answer=\"To import ChatOllama, use: 'from langchain_community.chat_models import ChatOllama.'\",\n",
        ")\n",
        "\n",
        "question_answer_feedback = Log(\n",
        "    id=\"2\",\n",
        "    question=\"How can I use Chroma vector store?\",\n",
        "    answer=\"To use Chroma, define: rag_chain = create_retrieval_chain(retriever, question_answer_chain).\",\n",
        "    grade=0,\n",
        "    grader=\"Document Relevance Recall\",\n",
        "    feedback=\"The retrieved documents discuss vector stores in general, but not Chroma specifically\",\n",
        ")"
      ]
    },
    {
      "cell_type": "code",
      "source": [
        "raw_logs = [question_answer, question_answer_feedback]\n",
        "graph.invoke({\"raw_logs\": raw_logs})"
      ],
      "metadata": {
        "id": "VhKwHIAequdN",
        "outputId": "25766a5e-c66a-4bc3-9048-46f341886fc0",
        "colab": {
          "base_uri": "https://localhost:8080/"
        }
      },
      "id": "VhKwHIAequdN",
      "execution_count": 96,
      "outputs": [
        {
          "output_type": "execute_result",
          "data": {
            "text/plain": [
              "{'raw_logs': [{'id': '1',\n",
              "   'question': 'How can I import ChatOllama?',\n",
              "   'answer': \"To import ChatOllama, use: 'from langchain_community.chat_models import ChatOllama.'\"},\n",
              "  {'id': '2',\n",
              "   'question': 'How can I use Chroma vector store?',\n",
              "   'answer': 'To use Chroma, define: rag_chain = create_retrieval_chain(retriever, question_answer_chain).',\n",
              "   'grade': 0,\n",
              "   'grader': 'Document Relevance Recall',\n",
              "   'feedback': 'The retrieved documents discuss vector stores in general, but not Chroma specifically'}],\n",
              " 'cleaned_logs': [{'id': '1',\n",
              "   'question': 'How can I import ChatOllama?',\n",
              "   'answer': \"To import ChatOllama, use: 'from langchain_community.chat_models import ChatOllama.'\"},\n",
              "  {'id': '2',\n",
              "   'question': 'How can I use Chroma vector store?',\n",
              "   'answer': 'To use Chroma, define: rag_chain = create_retrieval_chain(retriever, question_answer_chain).',\n",
              "   'grade': 0,\n",
              "   'grader': 'Document Relevance Recall',\n",
              "   'feedback': 'The retrieved documents discuss vector stores in general, but not Chroma specifically'}],\n",
              " 'fa_summary': 'Poor quality retrieval of Chroma documentation, therefore, your grades are set to fail after careful review',\n",
              " 'report': 'On basis of this summary: Questions focused on usage of ChatOllama and Chroma vector store., your grades are set to pass, and thus, you are PASSED now.',\n",
              " 'processed_logs': ['summary-on-failure-log-2',\n",
              "  'summary-on-pass-log-1',\n",
              "  'summary-on-pass-log-2']}"
            ]
          },
          "metadata": {},
          "execution_count": 96
        }
      ]
    },
    {
      "cell_type": "markdown",
      "id": "9192d228-4d3d-4fb0-8bea-26772c3d2e0b",
      "metadata": {
        "id": "9192d228-4d3d-4fb0-8bea-26772c3d2e0b"
      },
      "source": [
        "## LangSmith\n",
        "\n",
        "Let's look at the LangSmith trace:\n",
        "\n",
        "https://smith.langchain.com/public/f8f86f61-1b30-48cf-b055-3734dfceadf2/r"
      ]
    },
    {
      "cell_type": "code",
      "execution_count": 96,
      "id": "qceJJDKZVNdn",
      "metadata": {
        "id": "qceJJDKZVNdn"
      },
      "outputs": [],
      "source": []
    }
  ],
  "metadata": {
    "colab": {
      "provenance": [],
      "include_colab_link": true
    },
    "kernelspec": {
      "display_name": "Python 3 (ipykernel)",
      "language": "python",
      "name": "python3"
    },
    "language_info": {
      "codemirror_mode": {
        "name": "ipython",
        "version": 3
      },
      "file_extension": ".py",
      "mimetype": "text/x-python",
      "name": "python",
      "nbconvert_exporter": "python",
      "pygments_lexer": "ipython3",
      "version": "3.12.6"
    }
  },
  "nbformat": 4,
  "nbformat_minor": 5
}